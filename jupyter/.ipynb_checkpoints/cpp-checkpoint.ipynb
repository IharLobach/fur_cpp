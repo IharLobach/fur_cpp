{
 "cells": [
  {
   "cell_type": "code",
   "execution_count": 1,
   "metadata": {},
   "outputs": [],
   "source": [
    "#pragma cling add_include_path(\"/home/ilobach/anaconda3/include/\")"
   ]
  },
  {
   "cell_type": "code",
   "execution_count": 2,
   "metadata": {},
   "outputs": [],
   "source": [
    "#include <xtensor/xnpy.hpp>\n",
    "#include <complex>\n",
    "#include <cstdlib>\n",
    "#include <iostream>\n",
    "#include <map>\n",
    "#include <string>\n",
    "#include <cmath>\n",
    "#include <ctime>"
   ]
  },
  {
   "cell_type": "code",
   "execution_count": 3,
   "metadata": {},
   "outputs": [
    {
     "name": "stdout",
     "output_type": "stream",
     "text": [
      "3\n"
     ]
    }
   ],
   "source": [
    "auto data = xt::load_npy<std::complex<double>>(\"/mnt/c/Users/lobac_000/OneDrive - Fermi National Accelerator Laboratory/FUR/SRW_SLAC_undulator_spectrum/Ex_3D.npy\");\n",
    "    std::cout << data.dimension() << std::endl;"
   ]
  },
  {
   "cell_type": "code",
   "execution_count": 4,
   "metadata": {},
   "outputs": [
    {
     "data": {
      "text/plain": [
       "1024"
      ]
     },
     "execution_count": 4,
     "metadata": {},
     "output_type": "execute_result"
    }
   ],
   "source": [
    "data.shape()[2]"
   ]
  },
  {
   "cell_type": "code",
   "execution_count": 5,
   "metadata": {},
   "outputs": [],
   "source": [
    "int nx, ny, nz;\n",
    "nx = data.shape()[2];\n",
    "ny = data.shape()[1];\n",
    "nz = data.shape()[0];"
   ]
  },
  {
   "cell_type": "code",
   "execution_count": 6,
   "metadata": {},
   "outputs": [],
   "source": [
    "const std::complex<double> * Ex3d = data.data();"
   ]
  },
  {
   "cell_type": "code",
   "execution_count": 7,
   "metadata": {},
   "outputs": [
    {
     "data": {
      "text/plain": [
       "(-6.92012,-0.677458)"
      ]
     },
     "execution_count": 7,
     "metadata": {},
     "output_type": "execute_result"
    }
   ],
   "source": [
    "Ex3d[100,300,10]"
   ]
  },
  {
   "cell_type": "code",
   "execution_count": 8,
   "metadata": {},
   "outputs": [
    {
     "data": {
      "text/plain": [
       "(0.782565,-5.8691)"
      ]
     },
     "execution_count": 8,
     "metadata": {},
     "output_type": "execute_result"
    }
   ],
   "source": [
    "Ex3d[1*(nx*ny)+1*(nx)+1]"
   ]
  },
  {
   "cell_type": "code",
   "execution_count": 9,
   "metadata": {},
   "outputs": [],
   "source": [
    "std::complex<double> ex3d(int z, int y, int x) {\n",
    "    return Ex3d[z*(nx*ny)+y*(nx)+x];\n",
    "}"
   ]
  },
  {
   "cell_type": "code",
   "execution_count": 10,
   "metadata": {},
   "outputs": [
    {
     "data": {
      "text/plain": [
       "(0.782565,-5.8691)"
      ]
     },
     "execution_count": 10,
     "metadata": {},
     "output_type": "execute_result"
    }
   ],
   "source": [
    "ex3d(1,1,1)"
   ]
  },
  {
   "cell_type": "markdown",
   "metadata": {},
   "source": [
    "# Inputs:"
   ]
  },
  {
   "cell_type": "code",
   "execution_count": 11,
   "metadata": {},
   "outputs": [],
   "source": [
    "double Sx = 300.96585801243214;\n",
    "double Sy = 240.67384278137428;\n",
    "double dx = 1048234.8735736432;\n",
    "double dy = -487663.40045622655;\n",
    "double sxp = 0.00043265807507931146;\n",
    "double syp = 0.00043148229886993364;"
   ]
  },
  {
   "cell_type": "code",
   "execution_count": 12,
   "metadata": {},
   "outputs": [],
   "source": [
    "double dax = 4.9609375e-05;\n",
    "double day = 4.9614674702039514e-05;"
   ]
  },
  {
   "cell_type": "code",
   "execution_count": 13,
   "metadata": {},
   "outputs": [],
   "source": [
    "double lmin = 0.85;\n",
    "double dl = 0.0015000000000000002;"
   ]
  },
  {
   "cell_type": "code",
   "execution_count": 14,
   "metadata": {},
   "outputs": [],
   "source": [
    "double axmin = -dax*(nx-1)/2;\n",
    "double aymin = -day*(ny-1)/2;"
   ]
  },
  {
   "cell_type": "markdown",
   "metadata": {},
   "source": [
    "# Inferred values"
   ]
  },
  {
   "cell_type": "code",
   "execution_count": 15,
   "metadata": {},
   "outputs": [],
   "source": [
    "double V = dl*(nz-1)*pow(dax*(nx-1)*day*(ny-1),3);"
   ]
  },
  {
   "cell_type": "code",
   "execution_count": 16,
   "metadata": {},
   "outputs": [],
   "source": [
    "int ixp, iyp, m1, n1, m2, n2, il;"
   ]
  },
  {
   "cell_type": "code",
   "execution_count": 17,
   "metadata": {},
   "outputs": [],
   "source": [
    "int m1Mixp, n1Miyp, m2Mixp, n2Miyp;"
   ]
  },
  {
   "cell_type": "code",
   "execution_count": 18,
   "metadata": {},
   "outputs": [],
   "source": [
    "bool isinRange(int val, int r) {\n",
    "    if ((val < 0) || (val > r-1)) {\n",
    "        return false;\n",
    "    }\n",
    "    else {\n",
    "        return true;\n",
    "    }\n",
    "}"
   ]
  },
  {
   "cell_type": "code",
   "execution_count": 19,
   "metadata": {},
   "outputs": [],
   "source": [
    "bool isin(int a, int b, int c, int d, int l) {\n",
    "    if (not isinRange(a,nx)){\n",
    "        return false;\n",
    "    }\n",
    "    if (not isinRange(b,ny)) {\n",
    "        return false;\n",
    "    }\n",
    "    if (not isinRange(c,nx)) {\n",
    "        return false;\n",
    "    }\n",
    "    if (not isinRange(d,ny)) {\n",
    "        return false;\n",
    "    }\n",
    "    if (not isinRange(l,nz)) {\n",
    "        return false;\n",
    "    }\n",
    "    return true;\n",
    "}"
   ]
  },
  {
   "cell_type": "code",
   "execution_count": 20,
   "metadata": {},
   "outputs": [],
   "source": [
    "double k0;\n",
    "double re,im;\n",
    "std::complex<double> myexp(int ixp,int iyp, int m1, int n1, int m2, int n2, int il);"
   ]
  },
  {
   "cell_type": "code",
   "execution_count": 21,
   "metadata": {},
   "outputs": [],
   "source": [
    "std::complex<double> myexp(int ixp,int iyp, int m1, int n1, int m2, int n2, int il) {\n",
    "    k0 = 2*M_PI/(lmin+dl*il);\n",
    "    re = pow((axmin+dax*ixp)/sxp,2)/4+pow((aymin+day*iyp)/syp,2)/4+pow(k0*Sx*dax*(m1-m2),2)\n",
    "        *pow(k0*Sy*day*(n1-n2),2);\n",
    "    im = k0*dx*dax*(m1-m2)*(axmin+dax*ixp)+k0*dy*day*(n1-n2)*(aymin+day*iyp);\n",
    "    std::complex<double> ar(re, im);\n",
    "    return exp(-ar);    \n",
    "}"
   ]
  },
  {
   "cell_type": "code",
   "execution_count": 22,
   "metadata": {},
   "outputs": [],
   "source": [
    "std::complex<double> s;"
   ]
  },
  {
   "cell_type": "code",
   "execution_count": 23,
   "metadata": {},
   "outputs": [],
   "source": [
    "int64_t n;"
   ]
  },
  {
   "cell_type": "code",
   "execution_count": 24,
   "metadata": {},
   "outputs": [],
   "source": [
    "int64_t m0;"
   ]
  },
  {
   "cell_type": "code",
   "execution_count": 25,
   "metadata": {},
   "outputs": [],
   "source": [
    "double sz;"
   ]
  },
  {
   "cell_type": "code",
   "execution_count": 26,
   "metadata": {},
   "outputs": [],
   "source": [
    "sz = 30e4;"
   ]
  },
  {
   "cell_type": "code",
   "execution_count": null,
   "metadata": {},
   "outputs": [
    {
     "name": "stdout",
     "output_type": "stream",
     "text": [
      "local:     Wed Jul 29 14:00:10 2020 CDT\n",
      "n points = 100000, M = (-1.01537e+09,-1.38702e+09)\n",
      "local:     Wed Jul 29 14:00:10 2020 CDT\n",
      "n points = 200000, M = (-2.03422e+09,-2.77417e+09)\n",
      "local:     Wed Jul 29 14:00:10 2020 CDT\n",
      "n points = 400000, M = (-2.26489e+09,-5.32068e+09)\n",
      "local:     Wed Jul 29 14:00:10 2020 CDT\n",
      "n points = 800000, M = (-5.4575e+09,-5.3362e+09)\n",
      "local:     Wed Jul 29 14:00:11 2020 CDT\n",
      "n points = 1600000, M = (4.53265e+09,-3.77292e+09)\n",
      "local:     Wed Jul 29 14:00:11 2020 CDT\n",
      "n points = 3200000, M = (2.94972e+09,-4.93782e+09)\n",
      "local:     Wed Jul 29 14:00:12 2020 CDT\n",
      "n points = 6400000, M = (3.39369e+10,3.73791e+10)\n",
      "local:     Wed Jul 29 14:00:13 2020 CDT\n",
      "n points = 12800000, M = (-1.63972e+10,8.62237e+10)\n"
     ]
    }
   ],
   "source": [
    "m0 = 100000;\n",
    "n = pow(10,9);\n",
    "s = 0;\n",
    "for (int i=0;true;i++){\n",
    "    il = std::rand() % nz;\n",
    "    ixp = std::rand() % nx;\n",
    "    m1 = std::rand() % nx;\n",
    "    m2 = std::rand() % nx;\n",
    "    iyp = std::rand() % ny;\n",
    "    n1 = std::rand() % ny;\n",
    "    n2 = std::rand() % ny;\n",
    "    m1Mixp = m1-ixp;\n",
    "    n1Miyp = n1-iyp;\n",
    "    m2Mixp = m2-ixp;\n",
    "    n2Miyp = n2-iyp;\n",
    "    if (isin(m1Mixp, n1Miyp, m2Mixp, n2Miyp, il)) {\n",
    "        s += ex3d(il,n1Miyp,m1Mixp)*ex3d(il,n1,m1)*ex3d(il,n2Miyp,m2Mixp)*ex3d(il,n2,m2)\n",
    "            *myexp(ixp, iyp, m1, n1, m2, n2, il);\n",
    "    }\n",
    "    if (i == m0){\n",
    "        std::complex<double> M = 1.0/(sqrt(M_PI)/sz*V/i/4.0/M_PI/sxp/syp*s);\n",
    "        std::time_t t = std::time(nullptr);\n",
    "        std::cout << std::put_time(std::localtime(&t), \"%c %Z\") << std::endl;\n",
    "        std::cout << \"n points = \" << i << \", M = \" << M << std::endl;\n",
    "        m0 = 2*m0;\n",
    "    }\n",
    "}"
   ]
  },
  {
   "cell_type": "code",
   "execution_count": null,
   "metadata": {},
   "outputs": [],
   "source": []
  }
 ],
 "metadata": {
  "kernelspec": {
   "display_name": "C++14",
   "language": "C++14",
   "name": "xcpp14"
  },
  "language_info": {
   "codemirror_mode": "text/x-c++src",
   "file_extension": ".cpp",
   "mimetype": "text/x-c++src",
   "name": "c++",
   "version": "14"
  }
 },
 "nbformat": 4,
 "nbformat_minor": 4
}
